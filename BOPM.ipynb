{
  "nbformat": 4,
  "nbformat_minor": 0,
  "metadata": {
    "colab": {
      "provenance": [],
      "include_colab_link": true
    },
    "kernelspec": {
      "name": "python3",
      "display_name": "Python 3"
    },
    "language_info": {
      "name": "python"
    }
  },
  "cells": [
    {
      "cell_type": "markdown",
      "metadata": {
        "id": "view-in-github",
        "colab_type": "text"
      },
      "source": [
        "<a href=\"https://colab.research.google.com/github/sonu8499/ClassifyMeister-/blob/main/BOPM.ipynb\" target=\"_parent\"><img src=\"https://colab.research.google.com/assets/colab-badge.svg\" alt=\"Open In Colab\"/></a>"
      ]
    },
    {
      "cell_type": "code",
      "execution_count": null,
      "metadata": {
        "id": "cRe96OlWh-jE"
      },
      "outputs": [],
      "source": [
        "!pip install yfinance"
      ]
    },
    {
      "cell_type": "code",
      "source": [
        "import pandas as pd\n",
        "import numpy as np\n",
        "import math as math\n",
        "import yfinance as yf"
      ],
      "metadata": {
        "id": "98aaOthoiF1g"
      },
      "execution_count": 6,
      "outputs": []
    },
    {
      "cell_type": "code",
      "source": [
        "from google.colab import files\n",
        "files.upload()"
      ],
      "metadata": {
        "id": "WHyW61qQiIa3",
        "outputId": "4cfc26db-3a64-4401-f368-6b50d354aa9a",
        "colab": {
          "base_uri": "https://localhost:8080/",
          "height": 38
        }
      },
      "execution_count": null,
      "outputs": [
        {
          "output_type": "display_data",
          "data": {
            "text/plain": [
              "<IPython.core.display.HTML object>"
            ],
            "text/html": [
              "\n",
              "     <input type=\"file\" id=\"files-e70e874a-ddcf-466c-8be0-883994078aae\" name=\"files[]\" multiple disabled\n",
              "        style=\"border:none\" />\n",
              "     <output id=\"result-e70e874a-ddcf-466c-8be0-883994078aae\">\n",
              "      Upload widget is only available when the cell has been executed in the\n",
              "      current browser session. Please rerun this cell to enable.\n",
              "      </output>\n",
              "      <script>// Copyright 2017 Google LLC\n",
              "//\n",
              "// Licensed under the Apache License, Version 2.0 (the \"License\");\n",
              "// you may not use this file except in compliance with the License.\n",
              "// You may obtain a copy of the License at\n",
              "//\n",
              "//      http://www.apache.org/licenses/LICENSE-2.0\n",
              "//\n",
              "// Unless required by applicable law or agreed to in writing, software\n",
              "// distributed under the License is distributed on an \"AS IS\" BASIS,\n",
              "// WITHOUT WARRANTIES OR CONDITIONS OF ANY KIND, either express or implied.\n",
              "// See the License for the specific language governing permissions and\n",
              "// limitations under the License.\n",
              "\n",
              "/**\n",
              " * @fileoverview Helpers for google.colab Python module.\n",
              " */\n",
              "(function(scope) {\n",
              "function span(text, styleAttributes = {}) {\n",
              "  const element = document.createElement('span');\n",
              "  element.textContent = text;\n",
              "  for (const key of Object.keys(styleAttributes)) {\n",
              "    element.style[key] = styleAttributes[key];\n",
              "  }\n",
              "  return element;\n",
              "}\n",
              "\n",
              "// Max number of bytes which will be uploaded at a time.\n",
              "const MAX_PAYLOAD_SIZE = 100 * 1024;\n",
              "\n",
              "function _uploadFiles(inputId, outputId) {\n",
              "  const steps = uploadFilesStep(inputId, outputId);\n",
              "  const outputElement = document.getElementById(outputId);\n",
              "  // Cache steps on the outputElement to make it available for the next call\n",
              "  // to uploadFilesContinue from Python.\n",
              "  outputElement.steps = steps;\n",
              "\n",
              "  return _uploadFilesContinue(outputId);\n",
              "}\n",
              "\n",
              "// This is roughly an async generator (not supported in the browser yet),\n",
              "// where there are multiple asynchronous steps and the Python side is going\n",
              "// to poll for completion of each step.\n",
              "// This uses a Promise to block the python side on completion of each step,\n",
              "// then passes the result of the previous step as the input to the next step.\n",
              "function _uploadFilesContinue(outputId) {\n",
              "  const outputElement = document.getElementById(outputId);\n",
              "  const steps = outputElement.steps;\n",
              "\n",
              "  const next = steps.next(outputElement.lastPromiseValue);\n",
              "  return Promise.resolve(next.value.promise).then((value) => {\n",
              "    // Cache the last promise value to make it available to the next\n",
              "    // step of the generator.\n",
              "    outputElement.lastPromiseValue = value;\n",
              "    return next.value.response;\n",
              "  });\n",
              "}\n",
              "\n",
              "/**\n",
              " * Generator function which is called between each async step of the upload\n",
              " * process.\n",
              " * @param {string} inputId Element ID of the input file picker element.\n",
              " * @param {string} outputId Element ID of the output display.\n",
              " * @return {!Iterable<!Object>} Iterable of next steps.\n",
              " */\n",
              "function* uploadFilesStep(inputId, outputId) {\n",
              "  const inputElement = document.getElementById(inputId);\n",
              "  inputElement.disabled = false;\n",
              "\n",
              "  const outputElement = document.getElementById(outputId);\n",
              "  outputElement.innerHTML = '';\n",
              "\n",
              "  const pickedPromise = new Promise((resolve) => {\n",
              "    inputElement.addEventListener('change', (e) => {\n",
              "      resolve(e.target.files);\n",
              "    });\n",
              "  });\n",
              "\n",
              "  const cancel = document.createElement('button');\n",
              "  inputElement.parentElement.appendChild(cancel);\n",
              "  cancel.textContent = 'Cancel upload';\n",
              "  const cancelPromise = new Promise((resolve) => {\n",
              "    cancel.onclick = () => {\n",
              "      resolve(null);\n",
              "    };\n",
              "  });\n",
              "\n",
              "  // Wait for the user to pick the files.\n",
              "  const files = yield {\n",
              "    promise: Promise.race([pickedPromise, cancelPromise]),\n",
              "    response: {\n",
              "      action: 'starting',\n",
              "    }\n",
              "  };\n",
              "\n",
              "  cancel.remove();\n",
              "\n",
              "  // Disable the input element since further picks are not allowed.\n",
              "  inputElement.disabled = true;\n",
              "\n",
              "  if (!files) {\n",
              "    return {\n",
              "      response: {\n",
              "        action: 'complete',\n",
              "      }\n",
              "    };\n",
              "  }\n",
              "\n",
              "  for (const file of files) {\n",
              "    const li = document.createElement('li');\n",
              "    li.append(span(file.name, {fontWeight: 'bold'}));\n",
              "    li.append(span(\n",
              "        `(${file.type || 'n/a'}) - ${file.size} bytes, ` +\n",
              "        `last modified: ${\n",
              "            file.lastModifiedDate ? file.lastModifiedDate.toLocaleDateString() :\n",
              "                                    'n/a'} - `));\n",
              "    const percent = span('0% done');\n",
              "    li.appendChild(percent);\n",
              "\n",
              "    outputElement.appendChild(li);\n",
              "\n",
              "    const fileDataPromise = new Promise((resolve) => {\n",
              "      const reader = new FileReader();\n",
              "      reader.onload = (e) => {\n",
              "        resolve(e.target.result);\n",
              "      };\n",
              "      reader.readAsArrayBuffer(file);\n",
              "    });\n",
              "    // Wait for the data to be ready.\n",
              "    let fileData = yield {\n",
              "      promise: fileDataPromise,\n",
              "      response: {\n",
              "        action: 'continue',\n",
              "      }\n",
              "    };\n",
              "\n",
              "    // Use a chunked sending to avoid message size limits. See b/62115660.\n",
              "    let position = 0;\n",
              "    do {\n",
              "      const length = Math.min(fileData.byteLength - position, MAX_PAYLOAD_SIZE);\n",
              "      const chunk = new Uint8Array(fileData, position, length);\n",
              "      position += length;\n",
              "\n",
              "      const base64 = btoa(String.fromCharCode.apply(null, chunk));\n",
              "      yield {\n",
              "        response: {\n",
              "          action: 'append',\n",
              "          file: file.name,\n",
              "          data: base64,\n",
              "        },\n",
              "      };\n",
              "\n",
              "      let percentDone = fileData.byteLength === 0 ?\n",
              "          100 :\n",
              "          Math.round((position / fileData.byteLength) * 100);\n",
              "      percent.textContent = `${percentDone}% done`;\n",
              "\n",
              "    } while (position < fileData.byteLength);\n",
              "  }\n",
              "\n",
              "  // All done.\n",
              "  yield {\n",
              "    response: {\n",
              "      action: 'complete',\n",
              "    }\n",
              "  };\n",
              "}\n",
              "\n",
              "scope.google = scope.google || {};\n",
              "scope.google.colab = scope.google.colab || {};\n",
              "scope.google.colab._files = {\n",
              "  _uploadFiles,\n",
              "  _uploadFilesContinue,\n",
              "};\n",
              "})(self);\n",
              "</script> "
            ]
          },
          "metadata": {}
        }
      ]
    },
    {
      "cell_type": "code",
      "source": [
        "df = pd.read_csv('Nifty_50_Data.csv')\n",
        "df.head(50)"
      ],
      "metadata": {
        "id": "FCyLDZICiLn5"
      },
      "execution_count": null,
      "outputs": []
    },
    {
      "cell_type": "code",
      "source": [
        "def volatility(df):\n",
        "  df['volat'] = df['Adj Close'].pct_change()\n",
        "  vol = df['volat'].std(ddof=0)*np.sqrt(252)\n",
        "  return vol"
      ],
      "metadata": {
        "id": "qVPOocMxiRmt"
      },
      "execution_count": 7,
      "outputs": []
    },
    {
      "cell_type": "code",
      "source": [
        "volatility(df)"
      ],
      "metadata": {
        "colab": {
          "base_uri": "https://localhost:8080/",
          "height": 165
        },
        "id": "w4DbglS2iVHK",
        "outputId": "61990656-6ae8-4b9a-dff8-eb42419bb06f"
      },
      "execution_count": 11,
      "outputs": [
        {
          "output_type": "error",
          "ename": "NameError",
          "evalue": "ignored",
          "traceback": [
            "\u001b[0;31m---------------------------------------------------------------------------\u001b[0m",
            "\u001b[0;31mNameError\u001b[0m                                 Traceback (most recent call last)",
            "\u001b[0;32m<ipython-input-11-ee3f7babb987>\u001b[0m in \u001b[0;36m<cell line: 1>\u001b[0;34m()\u001b[0m\n\u001b[0;32m----> 1\u001b[0;31m \u001b[0mvolatility\u001b[0m\u001b[0;34m(\u001b[0m\u001b[0mdf\u001b[0m\u001b[0;34m)\u001b[0m\u001b[0;34m\u001b[0m\u001b[0;34m\u001b[0m\u001b[0m\n\u001b[0m",
            "\u001b[0;31mNameError\u001b[0m: name 'df' is not defined"
          ]
        }
      ]
    },
    {
      "cell_type": "code",
      "source": [
        "df.head(50)"
      ],
      "metadata": {
        "colab": {
          "base_uri": "https://localhost:8080/",
          "height": 165
        },
        "id": "QJ7W4E5hiYkx",
        "outputId": "6a45afe0-3475-4925-ad27-90e0a14fdf9a"
      },
      "execution_count": 10,
      "outputs": [
        {
          "output_type": "error",
          "ename": "NameError",
          "evalue": "ignored",
          "traceback": [
            "\u001b[0;31m---------------------------------------------------------------------------\u001b[0m",
            "\u001b[0;31mNameError\u001b[0m                                 Traceback (most recent call last)",
            "\u001b[0;32m<ipython-input-10-61c774354124>\u001b[0m in \u001b[0;36m<cell line: 1>\u001b[0;34m()\u001b[0m\n\u001b[0;32m----> 1\u001b[0;31m \u001b[0mdf\u001b[0m\u001b[0;34m.\u001b[0m\u001b[0mhead\u001b[0m\u001b[0;34m(\u001b[0m\u001b[0;36m50\u001b[0m\u001b[0;34m)\u001b[0m\u001b[0;34m\u001b[0m\u001b[0;34m\u001b[0m\u001b[0m\n\u001b[0m",
            "\u001b[0;31mNameError\u001b[0m: name 'df' is not defined"
          ]
        }
      ]
    },
    {
      "cell_type": "code",
      "source": [
        "v = volatility(df)"
      ],
      "metadata": {
        "id": "fanIicKxihTh"
      },
      "execution_count": null,
      "outputs": []
    },
    {
      "cell_type": "code",
      "source": [
        "def alphaProbability(r,dt,v):\n",
        "  u = np.exp(v*np.sqrt(dt))\n",
        "  d = 1/u\n",
        "  rnp = (np.exp(r*dt)-d)/(u-d)\n",
        "  return rnp"
      ],
      "metadata": {
        "id": "aOqWvyHzinYd"
      },
      "execution_count": null,
      "outputs": []
    },
    {
      "cell_type": "code",
      "source": [
        "S = 17875"
      ],
      "metadata": {
        "id": "T7puoBfKjN1A"
      },
      "execution_count": null,
      "outputs": []
    },
    {
      "cell_type": "code",
      "source": [
        "def bopm(n,t,S,v):\n",
        "  dt = t/n\n",
        "  u = np.exp(v*np.sqrt(dt))\n",
        "  d = 1/u\n",
        "  Pm = np.zeros((n+1, n+1))\n",
        "  for j in range(n+1):\n",
        "    for i in range(j+1):\n",
        "      Pm[i,j] = S*math.pow(d,i) * math.pow(u,j-i)\n",
        "  return Pm"
      ],
      "metadata": {
        "id": "6F6Zj52gkAfn"
      },
      "execution_count": null,
      "outputs": []
    },
    {
      "cell_type": "code",
      "source": [
        "n = 5\n",
        "t = 200/365\n",
        "v = volatility(df)\n",
        "x = bopm(n,t,S,v)\n",
        "\n",
        "print('n = 5:\\n',np.matrix(x.astype(int)))"
      ],
      "metadata": {
        "colab": {
          "base_uri": "https://localhost:8080/"
        },
        "id": "HCxb-WYkk8Uo",
        "outputId": "07e8cf85-3ebc-4348-b04c-ab4e2a004b16"
      },
      "execution_count": null,
      "outputs": [
        {
          "output_type": "stream",
          "name": "stdout",
          "text": [
            "n = 5:\n",
            " [[17875 18925 20038 21216 22464 23784]\n",
            " [    0 16882 17875 18925 20038 21216]\n",
            " [    0     0 15945 16882 17874 18925]\n",
            " [    0     0     0 15059 15945 16882]\n",
            " [    0     0     0     0 14223 15059]\n",
            " [    0     0     0     0     0 13433]]\n"
          ]
        }
      ]
    },
    {
      "cell_type": "code",
      "source": [
        "def OptionsVal(n,S,k,r,v,T,PC):\n",
        "  dt = T/n\n",
        "  u = math.exp(v*math.sqrt(dt))\n",
        "  d = 1/u\n",
        "  p = (math.exp(r*dt)-d)/(u-d)\n",
        "  Pm = np.zeros((n+1,n+1))\n",
        "  Cm = np.zeros((n+1,n+1))\n",
        "  tmp = np.zeros((2,n+1))\n",
        "  for j in range(n+1):\n",
        "    tmp[0,j] = S*math.pow(d,j)\n",
        "    tmp[1,j] = S*math.pow(u,j)\n",
        "  tot = np.unique(tmp)\n",
        "  c = n\n",
        "  for i in range(c+1):\n",
        "    for j in range(c+1):\n",
        "      Pm[i,j-c-1] = tot[(n-i)+j]\n",
        "    c=c-1\n",
        "  for j in range(n+1,0,-1):\n",
        "    for i in range(j):\n",
        "      if(PC == 1):\n",
        "        if(j == n+1):\n",
        "          Cm[i,j-1] = max(k-Pm[i,j-1],0)\n",
        "        else:\n",
        "          Cm[i,j-1] = math.exp(-r*dt)*(p*Cm[i,j] + (1-p)*Cm[i+1,j])\n",
        "      if(PC == 0):\n",
        "        if(j == n+1):\n",
        "          Cm[i,j-1] = max(Pm[i,j-1]-k,0)\n",
        "        else:\n",
        "          Cm[i,j-1] = math.exp(-r*dt)*(p*Cm[i,j] + (1-p)*Cm[i+1,j])\n",
        "  return [Pm,Cm]"
      ],
      "metadata": {
        "id": "MoZ6-VGOmlGZ"
      },
      "execution_count": null,
      "outputs": []
    },
    {
      "cell_type": "code",
      "source": [
        "k = S\n",
        "r = 0.06\n",
        "T = 20/36\n",
        "n = 10\n",
        "PC = 0\n",
        "Pm,CmC = OptionsVal(n,S,k,r,v,T,PC)\n",
        "PC = 1\n",
        "_,CmP = OptionsVal(n,S,k,r,v,T,PC)\n",
        "print('Pricing:\\n',np.matrix(Pm.astype(int)))\n",
        "print('Call Option:\\n',np.matrix(CmC.astype(int)))\n",
        "print('Put Option:\\n',np.matrix(CmP.astype(int)))"
      ],
      "metadata": {
        "colab": {
          "base_uri": "https://localhost:8080/"
        },
        "id": "Rl_XPF8drDnl",
        "outputId": "c6552bc7-825e-4f91-cb5f-591c84cec77d"
      },
      "execution_count": null,
      "outputs": [
        {
          "output_type": "stream",
          "name": "stdout",
          "text": [
            "Pricing:\n",
            " [[17875 18617 19389 20194 21033 21906 22815 23762 24749 25776 26847]\n",
            " [    0 17162 17875 18617 19389 20194 21033 21906 22815 23762 24749]\n",
            " [    0     0 16478 17162 17875 18617 19389 20194 21033 21906 22815]\n",
            " [    0     0     0 15821 16478 17162 17875 18617 19389 20194 21033]\n",
            " [    0     0     0     0 15190 15821 16478 17162 17875 18617 19389]\n",
            " [    0     0     0     0     0 14585 15190 15821 16478 17162 17875]\n",
            " [    0     0     0     0     0     0 14004 14585 15190 15821 16478]\n",
            " [    0     0     0     0     0     0     0 13445 14004 14585 15190]\n",
            " [    0     0     0     0     0     0     0     0 12909 13445 14004]\n",
            " [    0     0     0     0     0     0     0     0     0 12395 12909]\n",
            " [    0     0     0     0     0     0     0     0     0     0 11901]]\n",
            "Call Option:\n",
            " [[1201 1631 2164 2799 3526 4326 5177 6065 6993 7961 8972]\n",
            " [   0  723 1040 1460 1995 2646 3394 4209 5059 5947 6874]\n",
            " [   0    0  370  572  865 1274 1818 2497 3277 4090 4940]\n",
            " [   0    0    0  145  245  408  667 1062 1633 2379 3158]\n",
            " [   0    0    0    0   33   62  118  224  424  801 1514]\n",
            " [   0    0    0    0    0    0    0    0    0    0    0]\n",
            " [   0    0    0    0    0    0    0    0    0    0    0]\n",
            " [   0    0    0    0    0    0    0    0    0    0    0]\n",
            " [   0    0    0    0    0    0    0    0    0    0    0]\n",
            " [   0    0    0    0    0    0    0    0    0    0    0]\n",
            " [   0    0    0    0    0    0    0    0    0    0    0]]\n",
            "Put Option:\n",
            " [[ 615  361  178   67   14    0    0    0    0    0    0]\n",
            " [   0  908  570  306  127   31    0    0    0    0    0]\n",
            " [   0    0 1297  872  511  236   66    0    0    0    0]\n",
            " [   0    0    0 1786 1288  825  430  142    0    0    0]\n",
            " [   0    0    0    0 2363 1820 1278  759  305    0    0]\n",
            " [   0    0    0    0    0 2994 2447 1875 1277  652    0]\n",
            " [   0    0    0    0    0    0 3634 3111 2565 1993 1396]\n",
            " [   0    0    0    0    0    0    0 4251 3752 3230 2684]\n",
            " [   0    0    0    0    0    0    0    0 4846 4369 3870]\n",
            " [   0    0    0    0    0    0    0    0    0 5420 4965]\n",
            " [   0    0    0    0    0    0    0    0    0    0 5973]]\n"
          ]
        }
      ]
    }
  ]
}